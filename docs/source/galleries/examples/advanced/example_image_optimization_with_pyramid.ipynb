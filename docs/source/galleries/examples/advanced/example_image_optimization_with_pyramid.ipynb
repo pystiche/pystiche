{
  "cells": [
    {
      "cell_type": "code",
      "execution_count": null,
      "metadata": {
        "collapsed": false
      },
      "outputs": [],
      "source": [
        "%matplotlib inline"
      ]
    },
    {
      "cell_type": "markdown",
      "metadata": {},
      "source": [
        "\nImage-based optimization with image pyramid\n===========================================\n\nThis example showcases how an image pyramid is integrated in an NST in ``pystiche`` .\n\nWith an image pyramid the optimization is not performed on single but rather on\nmultiple increasing resolutions. This procedure is often dubbed *coarse-to-fine*, since\non the lower resolutions coarse structures are synthesized whereas on the higher levels\nthe details are carved out.\n\nThis technique has the potential to reduce the convergence time as well as to enhance\nthe overall result :cite:`LW2016,GEB+2017`.\n\n"
      ]
    },
    {
      "cell_type": "markdown",
      "metadata": {},
      "source": [
        "We start this example by importing everything we need and setting the device we will\nbe working on.\n\n"
      ]
    },
    {
      "cell_type": "code",
      "execution_count": null,
      "metadata": {
        "collapsed": false
      },
      "outputs": [],
      "source": [
        "import pystiche\nfrom pystiche.demo import demo_images\nfrom pystiche.enc import vgg19_multi_layer_encoder\nfrom pystiche.image import show_image, write_image\nfrom pystiche.loss import PerceptualLoss\nfrom pystiche.misc import get_device, get_input_image\nfrom pystiche.ops import (\n    FeatureReconstructionOperator,\n    MRFOperator,\n    MultiLayerEncodingOperator,\n)\nfrom pystiche.optim import default_image_pyramid_optim_loop\nfrom pystiche.pyramid import ImagePyramid\n\nprint(f\"I'm working with pystiche=={pystiche.__version__}\")\n\ndevice = get_device()\nprint(f\"I'm working with {device}\")\n\nimages = demo_images()\nimages.download()"
      ]
    },
    {
      "cell_type": "markdown",
      "metadata": {},
      "source": [
        "At first we define a :class:`~pystiche.loss.perceptual.PerceptualLoss` that is used\nas optimization ``criterion``.\n\n"
      ]
    },
    {
      "cell_type": "code",
      "execution_count": null,
      "metadata": {
        "collapsed": false
      },
      "outputs": [],
      "source": [
        "multi_layer_encoder = vgg19_multi_layer_encoder()\n\n\ncontent_layer = \"relu4_2\"\ncontent_encoder = multi_layer_encoder.extract_single_layer_encoder(content_layer)\ncontent_weight = 1e0\ncontent_loss = FeatureReconstructionOperator(\n    content_encoder, score_weight=content_weight\n)\n\n\nstyle_layers = (\"relu3_1\", \"relu4_1\")\nstyle_weight = 2e0\n\n\ndef get_style_op(encoder, layer_weight):\n    patch_size = 3\n    return MRFOperator(encoder, patch_size, stride=2, score_weight=layer_weight)\n\n\nstyle_loss = MultiLayerEncodingOperator(\n    multi_layer_encoder, style_layers, get_style_op, score_weight=style_weight,\n)\n\ncriterion = PerceptualLoss(content_loss, style_loss).to(device)\nprint(criterion)"
      ]
    },
    {
      "cell_type": "markdown",
      "metadata": {},
      "source": [
        "Opposed to the prior examples we want to perform an NST on multiple resolutions. In\n``pystiche`` this handled by an :class:`~pystiche.pyramid.ImagePyramid` . The\nresolutions are selected by specifying the ``edge_sizes`` of the images on each level\n. The optimization is performed for ``num_steps`` on the different levels.\n\nThe resizing of all images, i.e. ``input_image`` and target images (``content_image``\nand ``style_image``) is handled by the ``pyramid``. For that we need to register the\nperceptual loss (``criterion``) as ``resize_targets``.\n\n<div class=\"alert alert-info\"><h4>Note</h4><p>By default the ``edge_sizes`` correspond to the shorter ``edge`` of the images. To\n  change that you can pass ``edge=\"long\"``. For fine-grained control you can also\n  pass a sequence comprising ``\"short\"`` and ``\"long\"`` to select the ``edge`` for\n  each level separately.</p></div>\n\n"
      ]
    },
    {
      "cell_type": "code",
      "execution_count": null,
      "metadata": {
        "collapsed": false
      },
      "outputs": [],
      "source": [
        "edge_sizes = (300, 550)\nnum_steps = 200\npyramid = ImagePyramid(edge_sizes, num_steps, resize_targets=(criterion,))\nprint(pyramid)"
      ]
    },
    {
      "cell_type": "markdown",
      "metadata": {},
      "source": [
        "Next up, we load and show the images that will be used in the NST.\n\n"
      ]
    },
    {
      "cell_type": "code",
      "execution_count": null,
      "metadata": {
        "collapsed": false
      },
      "outputs": [],
      "source": [
        "content_image = images[\"bird2\"].read(device=device)\nshow_image(content_image, title=\"Input image\")"
      ]
    },
    {
      "cell_type": "code",
      "execution_count": null,
      "metadata": {
        "collapsed": false
      },
      "outputs": [],
      "source": [
        "style_image = images[\"mosaic\"].read(device=device)\nshow_image(style_image, title=\"Output image\")"
      ]
    },
    {
      "cell_type": "markdown",
      "metadata": {},
      "source": [
        "Although the images would be automatically resized during the optimization you might\nneed to resize them before: if you are working with large source images you might\nrun out of memory by setting up the targets of the perceptual loss. In that case it\nis good practice to resize the images upfront to the largest size the ``pyramid``\nwill handle.\n\n"
      ]
    },
    {
      "cell_type": "code",
      "execution_count": null,
      "metadata": {
        "collapsed": false
      },
      "outputs": [],
      "source": [
        "top_level = pyramid[-1]\ncontent_image = top_level.resize_image(content_image)\nstyle_image = top_level.resize_image(style_image)"
      ]
    },
    {
      "cell_type": "markdown",
      "metadata": {},
      "source": [
        "As a last preliminary step the previously loaded images are set as targets for the\nperceptual loss (``criterion``) and we create the input image.\n\n"
      ]
    },
    {
      "cell_type": "code",
      "execution_count": null,
      "metadata": {
        "collapsed": false
      },
      "outputs": [],
      "source": [
        "criterion.set_content_image(content_image)\ncriterion.set_style_image(style_image)\n\nstarting_point = \"content\"\ninput_image = get_input_image(starting_point, content_image=content_image)\nshow_image(input_image, title=\"Input image\")"
      ]
    },
    {
      "cell_type": "markdown",
      "metadata": {},
      "source": [
        "Finally we run the NST with the\n:func:`~pystiche.optim.optim.default_image_pyramid_optim_loop`. If ``get_optimizer``\nis not specified, as is the case here, the\n:func:`~pystiche.optim.optim.default_image_optimizer`, i.e.\n:class:`~torch.optim.lbfgs.LBFGS` is used.\n\n"
      ]
    },
    {
      "cell_type": "code",
      "execution_count": null,
      "metadata": {
        "collapsed": false
      },
      "outputs": [],
      "source": [
        "output_image = default_image_pyramid_optim_loop(input_image, criterion, pyramid)\n\nshow_image(output_image, title=\"Output image\")\nwrite_image(output_image, \"image_optimization_with_pyramid.jpg\")"
      ]
    }
  ],
  "metadata": {
    "kernelspec": {
      "display_name": "Python 3",
      "language": "python",
      "name": "python3"
    },
    "language_info": {
      "codemirror_mode": {
        "name": "ipython",
        "version": 3
      },
      "file_extension": ".py",
      "mimetype": "text/x-python",
      "name": "python",
      "nbconvert_exporter": "python",
      "pygments_lexer": "ipython3",
      "version": "3.6.9"
    }
  },
  "nbformat": 4,
  "nbformat_minor": 0
}